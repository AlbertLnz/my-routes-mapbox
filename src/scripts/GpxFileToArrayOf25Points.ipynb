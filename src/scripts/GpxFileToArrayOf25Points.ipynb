{
 "cells": [
  {
   "cell_type": "code",
   "execution_count": 6,
   "id": "309db902-9566-44d8-b1e5-4373da0e9f3a",
   "metadata": {},
   "outputs": [
    {
     "name": "stdout",
     "output_type": "stream",
     "text": [
      "[['2.078090000', '42.39540500'], ['2.086920000', '42.38940000'], ['2.093337000', '42.38553600'], ['2.097027000', '42.38434200'], ['2.097286000', '42.38396800'], ['2.098495000', '42.38332400'], ['2.099932000', '42.38256800'], ['2.102207000', '42.38290400'], ['2.103407000', '42.38250400'], ['2.106581000', '42.38222100'], ['2.110143000', '42.38246200'], ['2.111560000', '42.38244600'], ['2.113218000', '42.38274800'], ['2.115291000', '42.38318600'], ['2.116139000', '42.38349200'], ['2.115306000', '42.38311800'], ['2.113080000', '42.38285100'], ['2.108396000', '42.38233600'], ['2.101784000', '42.38334700'], ['2.098759000', '42.38174800'], ['2.097230000', '42.38395700'], ['2.096259000', '42.38463200'], ['2.090480000', '42.38727600'], ['2.079667000', '42.39449300'], ['2.078150000', '42.39539000']]\n"
     ]
    }
   ],
   "source": [
    "# Función para de un archivo GPX, escoger 25 puntos de forma eficiente (el máximo nº de puntos que MapBox soporta para hacer el fetch de la ruta)\n",
    "\n",
    "import xml.etree.ElementTree as ET\n",
    "\n",
    "def GpxFileToArrayOf25Points(file_path):\n",
    "    tree = ET.parse(file_path)\n",
    "    root = tree.getroot()\n",
    "    namespace = {'default': 'http://www.topografix.com/GPX/1/1'}\n",
    "    \n",
    "    coordinates = []\n",
    "    \n",
    "    for trkpt in root.findall('.//default:trkpt', namespace):\n",
    "        lat = float(trkpt.attrib['lat'])\n",
    "        lon = float(trkpt.attrib['lon'])\n",
    "        coordinates.append([lon, lat])\n",
    "    \n",
    "    return coordinates\n",
    "\n",
    "def select_25_coordinates(coordinates):\n",
    "    total_coords = len(coordinates)\n",
    "    \n",
    "    indices = [0] # el origin siempre lo ha de incluir\n",
    "    step = (total_coords - 1) / 24 # nº de distancia entre puntos para que sea eficaz la ruta\n",
    "    \n",
    "    for i in range(1, 24):\n",
    "        indices.append(round(i * step))\n",
    "    \n",
    "    indices.append(total_coords - 1)\n",
    "    \n",
    "    selected_coordinates = [coordinates[i] for i in indices]\n",
    "    \n",
    "    return selected_coordinates\n",
    "\n",
    "file_path = '/home/albertlnz/Downloads/puigmal.gpx'\n",
    "coords = GpxFileToArrayOf25Points(file_path)\n",
    "selected_coords = select_25_coordinates(coords)\n",
    "print(selected_coords)\n"
   ]
  },
  {
   "cell_type": "code",
   "execution_count": null,
   "id": "0dd998d9-146c-4554-869a-d52335f02884",
   "metadata": {},
   "outputs": [],
   "source": []
  }
 ],
 "metadata": {
  "kernelspec": {
   "display_name": "Python 3 (ipykernel)",
   "language": "python",
   "name": "python3"
  },
  "language_info": {
   "codemirror_mode": {
    "name": "ipython",
    "version": 3
   },
   "file_extension": ".py",
   "mimetype": "text/x-python",
   "name": "python",
   "nbconvert_exporter": "python",
   "pygments_lexer": "ipython3",
   "version": "3.11.7"
  }
 },
 "nbformat": 4,
 "nbformat_minor": 5
}
